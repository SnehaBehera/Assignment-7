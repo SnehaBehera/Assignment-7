{
 "cells": [
  {
   "cell_type": "code",
   "execution_count": null,
   "metadata": {},
   "outputs": [],
   "source": [
    "1. Is the Python Standard Library included with PyInputPlus?\n",
    "PyInputPlus is a Python module used for taking inputs with additional validation features. \n",
    "PyInputPlus will keep asking the user for text until they enter valid input."
   ]
  },
  {
   "cell_type": "code",
   "execution_count": null,
   "metadata": {},
   "outputs": [],
   "source": [
    "2. Why is PyInputPlus commonly imported with import pyinputplus as pypi?\n",
    "You can import the module with import pyinputplus as pyip so that you can enter a shorter \n",
    "name when calling the module's functions. PyInputPlus has functions for entering a variety \n",
    "of input, including strings, numbers, dates, yes/no, True/False, emails, and files."
   ]
  },
  {
   "cell_type": "code",
   "execution_count": null,
   "metadata": {},
   "outputs": [],
   "source": [
    "3. How do you distinguish between inputInt() and inputFloat()?\n",
    "inputInt() : Accepts an integer value. This also takes additional parameters\n",
    "'min', 'max', 'greaterThan' and 'lessThan' for bounds.\n",
    "Returns an int. inputFloat() : Accepts a floating-point numeric value."
   ]
  },
  {
   "cell_type": "code",
   "execution_count": null,
   "metadata": {},
   "outputs": [],
   "source": [
    "4. Using PyInputPlus,\n",
    "how do you ensure that the user enters a whole number between 0 and 99?\n"
   ]
  },
  {
   "cell_type": "code",
   "execution_count": null,
   "metadata": {},
   "outputs": [],
   "source": [
    "5. What is transferred to the keyword arguments allowRegexes and blockRegexes?\n"
   ]
  },
  {
   "cell_type": "code",
   "execution_count": null,
   "metadata": {},
   "outputs": [],
   "source": [
    "6. If a blank input is entered three times, what does inputStr(limit=3) do?\n",
    "It will throw RetryLimitException exception."
   ]
  },
  {
   "cell_type": "code",
   "execution_count": null,
   "metadata": {},
   "outputs": [],
   "source": [
    "7. If blank input is entered three times, what does inputStr(limit=3, default='hello') do?\n"
   ]
  }
 ],
 "metadata": {
  "kernelspec": {
   "display_name": "Python 3",
   "language": "python",
   "name": "python3"
  },
  "language_info": {
   "codemirror_mode": {
    "name": "ipython",
    "version": 3
   },
   "file_extension": ".py",
   "mimetype": "text/x-python",
   "name": "python",
   "nbconvert_exporter": "python",
   "pygments_lexer": "ipython3",
   "version": "3.7.6"
  }
 },
 "nbformat": 4,
 "nbformat_minor": 4
}
